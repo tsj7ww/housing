{
 "cells": [
  {
   "cell_type": "markdown",
   "id": "930775e9",
   "metadata": {
    "papermill": {
     "duration": 0.028918,
     "end_time": "2022-03-23T10:15:52.214472",
     "exception": false,
     "start_time": "2022-03-23T10:15:52.185554",
     "status": "completed"
    },
    "tags": []
   },
   "source": [
    "# Imports"
   ]
  },
  {
   "cell_type": "code",
   "execution_count": 1,
   "id": "371fb4b3",
   "metadata": {
    "_cell_guid": "b1076dfc-b9ad-4769-8c92-a6c4dae69d19",
    "_uuid": "8f2839f25d086af736a60e9eeb907d3b93b6e0e5",
    "execution": {
     "iopub.execute_input": "2022-03-23T10:15:52.281005Z",
     "iopub.status.busy": "2022-03-23T10:15:52.279785Z",
     "iopub.status.idle": "2022-03-23T10:15:53.643015Z",
     "shell.execute_reply": "2022-03-23T10:15:53.643521Z",
     "shell.execute_reply.started": "2022-03-23T10:00:31.087071Z"
    },
    "papermill": {
     "duration": 1.403344,
     "end_time": "2022-03-23T10:15:53.643850",
     "exception": false,
     "start_time": "2022-03-23T10:15:52.240506",
     "status": "completed"
    },
    "tags": []
   },
   "outputs": [
    {
     "name": "stdout",
     "output_type": "stream",
     "text": [
      "/kaggle/input/house-prices-advanced-regression-techniques/sample_submission.csv\n",
      "/kaggle/input/house-prices-advanced-regression-techniques/data_description.txt\n",
      "/kaggle/input/house-prices-advanced-regression-techniques/train.csv\n",
      "/kaggle/input/house-prices-advanced-regression-techniques/test.csv\n"
     ]
    }
   ],
   "source": [
    "import numpy as np\n",
    "import pandas as pd\n",
    "import matplotlib.pyplot as plt\n",
    "import sklearn\n",
    "from sklearn.preprocessing import OrdinalEncoder\n",
    "from sklearn.impute import SimpleImputer\n",
    "import matplotlib.pyplot as ply\n",
    "import seaborn as sns\n",
    "from sklearn.preprocessing import StandardScaler\n",
    "from sklearn.ensemble import RandomForestRegressor\n",
    "from sklearn.metrics import mean_squared_error\n",
    "from sklearn.model_selection import cross_val_score\n",
    "%matplotlib inline\n",
    "\n",
    "import os\n",
    "for dirname, _, filenames in os.walk('/kaggle/input'):\n",
    "    for filename in filenames:\n",
    "        print(os.path.join(dirname, filename))"
   ]
  },
  {
   "cell_type": "markdown",
   "id": "ff0faf57",
   "metadata": {
    "papermill": {
     "duration": 0.024604,
     "end_time": "2022-03-23T10:15:53.693904",
     "exception": false,
     "start_time": "2022-03-23T10:15:53.669300",
     "status": "completed"
    },
    "tags": []
   },
   "source": [
    "# Load and Explore Data"
   ]
  },
  {
   "cell_type": "code",
   "execution_count": 2,
   "id": "f777c26a",
   "metadata": {
    "execution": {
     "iopub.execute_input": "2022-03-23T10:15:53.747136Z",
     "iopub.status.busy": "2022-03-23T10:15:53.746166Z",
     "iopub.status.idle": "2022-03-23T10:15:53.825849Z",
     "shell.execute_reply": "2022-03-23T10:15:53.826443Z",
     "shell.execute_reply.started": "2022-03-23T10:00:32.741260Z"
    },
    "papermill": {
     "duration": 0.107895,
     "end_time": "2022-03-23T10:15:53.826611",
     "exception": false,
     "start_time": "2022-03-23T10:15:53.718716",
     "status": "completed"
    },
    "tags": []
   },
   "outputs": [],
   "source": [
    "# Load Training and Test set\n",
    "housing = pd.read_csv('/kaggle/input/house-prices-advanced-regression-techniques/train.csv')\n",
    "housing_test = pd.read_csv('/kaggle/input/house-prices-advanced-regression-techniques/test.csv')"
   ]
  },
  {
   "cell_type": "code",
   "execution_count": 3,
   "id": "29743a66",
   "metadata": {
    "execution": {
     "iopub.execute_input": "2022-03-23T10:15:53.887390Z",
     "iopub.status.busy": "2022-03-23T10:15:53.883761Z",
     "iopub.status.idle": "2022-03-23T10:15:53.914086Z",
     "shell.execute_reply": "2022-03-23T10:15:53.913531Z",
     "shell.execute_reply.started": "2022-03-23T10:00:32.824883Z"
    },
    "papermill": {
     "duration": 0.062843,
     "end_time": "2022-03-23T10:15:53.914233",
     "exception": false,
     "start_time": "2022-03-23T10:15:53.851390",
     "status": "completed"
    },
    "tags": []
   },
   "outputs": [
    {
     "data": {
      "text/html": [
       "<div>\n",
       "<style scoped>\n",
       "    .dataframe tbody tr th:only-of-type {\n",
       "        vertical-align: middle;\n",
       "    }\n",
       "\n",
       "    .dataframe tbody tr th {\n",
       "        vertical-align: top;\n",
       "    }\n",
       "\n",
       "    .dataframe thead th {\n",
       "        text-align: right;\n",
       "    }\n",
       "</style>\n",
       "<table border=\"1\" class=\"dataframe\">\n",
       "  <thead>\n",
       "    <tr style=\"text-align: right;\">\n",
       "      <th></th>\n",
       "      <th>Id</th>\n",
       "      <th>MSSubClass</th>\n",
       "      <th>MSZoning</th>\n",
       "      <th>LotFrontage</th>\n",
       "      <th>LotArea</th>\n",
       "      <th>Street</th>\n",
       "      <th>Alley</th>\n",
       "      <th>LotShape</th>\n",
       "      <th>LandContour</th>\n",
       "      <th>Utilities</th>\n",
       "      <th>...</th>\n",
       "      <th>PoolArea</th>\n",
       "      <th>PoolQC</th>\n",
       "      <th>Fence</th>\n",
       "      <th>MiscFeature</th>\n",
       "      <th>MiscVal</th>\n",
       "      <th>MoSold</th>\n",
       "      <th>YrSold</th>\n",
       "      <th>SaleType</th>\n",
       "      <th>SaleCondition</th>\n",
       "      <th>SalePrice</th>\n",
       "    </tr>\n",
       "  </thead>\n",
       "  <tbody>\n",
       "    <tr>\n",
       "      <th>0</th>\n",
       "      <td>1</td>\n",
       "      <td>60</td>\n",
       "      <td>RL</td>\n",
       "      <td>65.0</td>\n",
       "      <td>8450</td>\n",
       "      <td>Pave</td>\n",
       "      <td>NaN</td>\n",
       "      <td>Reg</td>\n",
       "      <td>Lvl</td>\n",
       "      <td>AllPub</td>\n",
       "      <td>...</td>\n",
       "      <td>0</td>\n",
       "      <td>NaN</td>\n",
       "      <td>NaN</td>\n",
       "      <td>NaN</td>\n",
       "      <td>0</td>\n",
       "      <td>2</td>\n",
       "      <td>2008</td>\n",
       "      <td>WD</td>\n",
       "      <td>Normal</td>\n",
       "      <td>208500</td>\n",
       "    </tr>\n",
       "    <tr>\n",
       "      <th>1</th>\n",
       "      <td>2</td>\n",
       "      <td>20</td>\n",
       "      <td>RL</td>\n",
       "      <td>80.0</td>\n",
       "      <td>9600</td>\n",
       "      <td>Pave</td>\n",
       "      <td>NaN</td>\n",
       "      <td>Reg</td>\n",
       "      <td>Lvl</td>\n",
       "      <td>AllPub</td>\n",
       "      <td>...</td>\n",
       "      <td>0</td>\n",
       "      <td>NaN</td>\n",
       "      <td>NaN</td>\n",
       "      <td>NaN</td>\n",
       "      <td>0</td>\n",
       "      <td>5</td>\n",
       "      <td>2007</td>\n",
       "      <td>WD</td>\n",
       "      <td>Normal</td>\n",
       "      <td>181500</td>\n",
       "    </tr>\n",
       "    <tr>\n",
       "      <th>2</th>\n",
       "      <td>3</td>\n",
       "      <td>60</td>\n",
       "      <td>RL</td>\n",
       "      <td>68.0</td>\n",
       "      <td>11250</td>\n",
       "      <td>Pave</td>\n",
       "      <td>NaN</td>\n",
       "      <td>IR1</td>\n",
       "      <td>Lvl</td>\n",
       "      <td>AllPub</td>\n",
       "      <td>...</td>\n",
       "      <td>0</td>\n",
       "      <td>NaN</td>\n",
       "      <td>NaN</td>\n",
       "      <td>NaN</td>\n",
       "      <td>0</td>\n",
       "      <td>9</td>\n",
       "      <td>2008</td>\n",
       "      <td>WD</td>\n",
       "      <td>Normal</td>\n",
       "      <td>223500</td>\n",
       "    </tr>\n",
       "    <tr>\n",
       "      <th>3</th>\n",
       "      <td>4</td>\n",
       "      <td>70</td>\n",
       "      <td>RL</td>\n",
       "      <td>60.0</td>\n",
       "      <td>9550</td>\n",
       "      <td>Pave</td>\n",
       "      <td>NaN</td>\n",
       "      <td>IR1</td>\n",
       "      <td>Lvl</td>\n",
       "      <td>AllPub</td>\n",
       "      <td>...</td>\n",
       "      <td>0</td>\n",
       "      <td>NaN</td>\n",
       "      <td>NaN</td>\n",
       "      <td>NaN</td>\n",
       "      <td>0</td>\n",
       "      <td>2</td>\n",
       "      <td>2006</td>\n",
       "      <td>WD</td>\n",
       "      <td>Abnorml</td>\n",
       "      <td>140000</td>\n",
       "    </tr>\n",
       "    <tr>\n",
       "      <th>4</th>\n",
       "      <td>5</td>\n",
       "      <td>60</td>\n",
       "      <td>RL</td>\n",
       "      <td>84.0</td>\n",
       "      <td>14260</td>\n",
       "      <td>Pave</td>\n",
       "      <td>NaN</td>\n",
       "      <td>IR1</td>\n",
       "      <td>Lvl</td>\n",
       "      <td>AllPub</td>\n",
       "      <td>...</td>\n",
       "      <td>0</td>\n",
       "      <td>NaN</td>\n",
       "      <td>NaN</td>\n",
       "      <td>NaN</td>\n",
       "      <td>0</td>\n",
       "      <td>12</td>\n",
       "      <td>2008</td>\n",
       "      <td>WD</td>\n",
       "      <td>Normal</td>\n",
       "      <td>250000</td>\n",
       "    </tr>\n",
       "  </tbody>\n",
       "</table>\n",
       "<p>5 rows × 81 columns</p>\n",
       "</div>"
      ],
      "text/plain": [
       "   Id  MSSubClass MSZoning  LotFrontage  LotArea Street Alley LotShape  \\\n",
       "0   1          60       RL         65.0     8450   Pave   NaN      Reg   \n",
       "1   2          20       RL         80.0     9600   Pave   NaN      Reg   \n",
       "2   3          60       RL         68.0    11250   Pave   NaN      IR1   \n",
       "3   4          70       RL         60.0     9550   Pave   NaN      IR1   \n",
       "4   5          60       RL         84.0    14260   Pave   NaN      IR1   \n",
       "\n",
       "  LandContour Utilities  ... PoolArea PoolQC Fence MiscFeature MiscVal MoSold  \\\n",
       "0         Lvl    AllPub  ...        0    NaN   NaN         NaN       0      2   \n",
       "1         Lvl    AllPub  ...        0    NaN   NaN         NaN       0      5   \n",
       "2         Lvl    AllPub  ...        0    NaN   NaN         NaN       0      9   \n",
       "3         Lvl    AllPub  ...        0    NaN   NaN         NaN       0      2   \n",
       "4         Lvl    AllPub  ...        0    NaN   NaN         NaN       0     12   \n",
       "\n",
       "  YrSold  SaleType  SaleCondition  SalePrice  \n",
       "0   2008        WD         Normal     208500  \n",
       "1   2007        WD         Normal     181500  \n",
       "2   2008        WD         Normal     223500  \n",
       "3   2006        WD        Abnorml     140000  \n",
       "4   2008        WD         Normal     250000  \n",
       "\n",
       "[5 rows x 81 columns]"
      ]
     },
     "execution_count": 3,
     "metadata": {},
     "output_type": "execute_result"
    }
   ],
   "source": [
    "# View training set\n",
    "housing.head()"
   ]
  },
  {
   "cell_type": "code",
   "execution_count": 4,
   "id": "b2b9d123",
   "metadata": {
    "execution": {
     "iopub.execute_input": "2022-03-23T10:15:53.971551Z",
     "iopub.status.busy": "2022-03-23T10:15:53.970541Z",
     "iopub.status.idle": "2022-03-23T10:15:53.993759Z",
     "shell.execute_reply": "2022-03-23T10:15:53.993260Z",
     "shell.execute_reply.started": "2022-03-23T10:00:32.870789Z"
    },
    "papermill": {
     "duration": 0.053037,
     "end_time": "2022-03-23T10:15:53.993897",
     "exception": false,
     "start_time": "2022-03-23T10:15:53.940860",
     "status": "completed"
    },
    "tags": []
   },
   "outputs": [
    {
     "data": {
      "text/html": [
       "<div>\n",
       "<style scoped>\n",
       "    .dataframe tbody tr th:only-of-type {\n",
       "        vertical-align: middle;\n",
       "    }\n",
       "\n",
       "    .dataframe tbody tr th {\n",
       "        vertical-align: top;\n",
       "    }\n",
       "\n",
       "    .dataframe thead th {\n",
       "        text-align: right;\n",
       "    }\n",
       "</style>\n",
       "<table border=\"1\" class=\"dataframe\">\n",
       "  <thead>\n",
       "    <tr style=\"text-align: right;\">\n",
       "      <th></th>\n",
       "      <th>Id</th>\n",
       "      <th>MSSubClass</th>\n",
       "      <th>MSZoning</th>\n",
       "      <th>LotFrontage</th>\n",
       "      <th>LotArea</th>\n",
       "      <th>Street</th>\n",
       "      <th>Alley</th>\n",
       "      <th>LotShape</th>\n",
       "      <th>LandContour</th>\n",
       "      <th>Utilities</th>\n",
       "      <th>...</th>\n",
       "      <th>ScreenPorch</th>\n",
       "      <th>PoolArea</th>\n",
       "      <th>PoolQC</th>\n",
       "      <th>Fence</th>\n",
       "      <th>MiscFeature</th>\n",
       "      <th>MiscVal</th>\n",
       "      <th>MoSold</th>\n",
       "      <th>YrSold</th>\n",
       "      <th>SaleType</th>\n",
       "      <th>SaleCondition</th>\n",
       "    </tr>\n",
       "  </thead>\n",
       "  <tbody>\n",
       "    <tr>\n",
       "      <th>0</th>\n",
       "      <td>1461</td>\n",
       "      <td>20</td>\n",
       "      <td>RH</td>\n",
       "      <td>80.0</td>\n",
       "      <td>11622</td>\n",
       "      <td>Pave</td>\n",
       "      <td>NaN</td>\n",
       "      <td>Reg</td>\n",
       "      <td>Lvl</td>\n",
       "      <td>AllPub</td>\n",
       "      <td>...</td>\n",
       "      <td>120</td>\n",
       "      <td>0</td>\n",
       "      <td>NaN</td>\n",
       "      <td>MnPrv</td>\n",
       "      <td>NaN</td>\n",
       "      <td>0</td>\n",
       "      <td>6</td>\n",
       "      <td>2010</td>\n",
       "      <td>WD</td>\n",
       "      <td>Normal</td>\n",
       "    </tr>\n",
       "    <tr>\n",
       "      <th>1</th>\n",
       "      <td>1462</td>\n",
       "      <td>20</td>\n",
       "      <td>RL</td>\n",
       "      <td>81.0</td>\n",
       "      <td>14267</td>\n",
       "      <td>Pave</td>\n",
       "      <td>NaN</td>\n",
       "      <td>IR1</td>\n",
       "      <td>Lvl</td>\n",
       "      <td>AllPub</td>\n",
       "      <td>...</td>\n",
       "      <td>0</td>\n",
       "      <td>0</td>\n",
       "      <td>NaN</td>\n",
       "      <td>NaN</td>\n",
       "      <td>Gar2</td>\n",
       "      <td>12500</td>\n",
       "      <td>6</td>\n",
       "      <td>2010</td>\n",
       "      <td>WD</td>\n",
       "      <td>Normal</td>\n",
       "    </tr>\n",
       "    <tr>\n",
       "      <th>2</th>\n",
       "      <td>1463</td>\n",
       "      <td>60</td>\n",
       "      <td>RL</td>\n",
       "      <td>74.0</td>\n",
       "      <td>13830</td>\n",
       "      <td>Pave</td>\n",
       "      <td>NaN</td>\n",
       "      <td>IR1</td>\n",
       "      <td>Lvl</td>\n",
       "      <td>AllPub</td>\n",
       "      <td>...</td>\n",
       "      <td>0</td>\n",
       "      <td>0</td>\n",
       "      <td>NaN</td>\n",
       "      <td>MnPrv</td>\n",
       "      <td>NaN</td>\n",
       "      <td>0</td>\n",
       "      <td>3</td>\n",
       "      <td>2010</td>\n",
       "      <td>WD</td>\n",
       "      <td>Normal</td>\n",
       "    </tr>\n",
       "    <tr>\n",
       "      <th>3</th>\n",
       "      <td>1464</td>\n",
       "      <td>60</td>\n",
       "      <td>RL</td>\n",
       "      <td>78.0</td>\n",
       "      <td>9978</td>\n",
       "      <td>Pave</td>\n",
       "      <td>NaN</td>\n",
       "      <td>IR1</td>\n",
       "      <td>Lvl</td>\n",
       "      <td>AllPub</td>\n",
       "      <td>...</td>\n",
       "      <td>0</td>\n",
       "      <td>0</td>\n",
       "      <td>NaN</td>\n",
       "      <td>NaN</td>\n",
       "      <td>NaN</td>\n",
       "      <td>0</td>\n",
       "      <td>6</td>\n",
       "      <td>2010</td>\n",
       "      <td>WD</td>\n",
       "      <td>Normal</td>\n",
       "    </tr>\n",
       "    <tr>\n",
       "      <th>4</th>\n",
       "      <td>1465</td>\n",
       "      <td>120</td>\n",
       "      <td>RL</td>\n",
       "      <td>43.0</td>\n",
       "      <td>5005</td>\n",
       "      <td>Pave</td>\n",
       "      <td>NaN</td>\n",
       "      <td>IR1</td>\n",
       "      <td>HLS</td>\n",
       "      <td>AllPub</td>\n",
       "      <td>...</td>\n",
       "      <td>144</td>\n",
       "      <td>0</td>\n",
       "      <td>NaN</td>\n",
       "      <td>NaN</td>\n",
       "      <td>NaN</td>\n",
       "      <td>0</td>\n",
       "      <td>1</td>\n",
       "      <td>2010</td>\n",
       "      <td>WD</td>\n",
       "      <td>Normal</td>\n",
       "    </tr>\n",
       "  </tbody>\n",
       "</table>\n",
       "<p>5 rows × 80 columns</p>\n",
       "</div>"
      ],
      "text/plain": [
       "     Id  MSSubClass MSZoning  LotFrontage  LotArea Street Alley LotShape  \\\n",
       "0  1461          20       RH         80.0    11622   Pave   NaN      Reg   \n",
       "1  1462          20       RL         81.0    14267   Pave   NaN      IR1   \n",
       "2  1463          60       RL         74.0    13830   Pave   NaN      IR1   \n",
       "3  1464          60       RL         78.0     9978   Pave   NaN      IR1   \n",
       "4  1465         120       RL         43.0     5005   Pave   NaN      IR1   \n",
       "\n",
       "  LandContour Utilities  ... ScreenPorch PoolArea PoolQC  Fence MiscFeature  \\\n",
       "0         Lvl    AllPub  ...         120        0    NaN  MnPrv         NaN   \n",
       "1         Lvl    AllPub  ...           0        0    NaN    NaN        Gar2   \n",
       "2         Lvl    AllPub  ...           0        0    NaN  MnPrv         NaN   \n",
       "3         Lvl    AllPub  ...           0        0    NaN    NaN         NaN   \n",
       "4         HLS    AllPub  ...         144        0    NaN    NaN         NaN   \n",
       "\n",
       "  MiscVal MoSold  YrSold  SaleType  SaleCondition  \n",
       "0       0      6    2010        WD         Normal  \n",
       "1   12500      6    2010        WD         Normal  \n",
       "2       0      3    2010        WD         Normal  \n",
       "3       0      6    2010        WD         Normal  \n",
       "4       0      1    2010        WD         Normal  \n",
       "\n",
       "[5 rows x 80 columns]"
      ]
     },
     "execution_count": 4,
     "metadata": {},
     "output_type": "execute_result"
    }
   ],
   "source": [
    "# View test set\n",
    "housing_test.head()"
   ]
  },
  {
   "cell_type": "code",
   "execution_count": 5,
   "id": "f8aedb59",
   "metadata": {
    "execution": {
     "iopub.execute_input": "2022-03-23T10:15:54.050998Z",
     "iopub.status.busy": "2022-03-23T10:15:54.050024Z",
     "iopub.status.idle": "2022-03-23T10:15:54.063514Z",
     "shell.execute_reply": "2022-03-23T10:15:54.064166Z",
     "shell.execute_reply.started": "2022-03-23T10:00:32.898629Z"
    },
    "papermill": {
     "duration": 0.044022,
     "end_time": "2022-03-23T10:15:54.064342",
     "exception": false,
     "start_time": "2022-03-23T10:15:54.020320",
     "status": "completed"
    },
    "tags": []
   },
   "outputs": [
    {
     "data": {
      "text/plain": [
       "count      1460.000000\n",
       "mean     180921.195890\n",
       "std       79442.502883\n",
       "min       34900.000000\n",
       "25%      129975.000000\n",
       "50%      163000.000000\n",
       "75%      214000.000000\n",
       "max      755000.000000\n",
       "Name: SalePrice, dtype: float64"
      ]
     },
     "execution_count": 5,
     "metadata": {},
     "output_type": "execute_result"
    }
   ],
   "source": [
    "# Get more information on SalePrice\n",
    "housing['SalePrice'].describe()"
   ]
  },
  {
   "cell_type": "markdown",
   "id": "49090b7d",
   "metadata": {
    "papermill": {
     "duration": 0.02634,
     "end_time": "2022-03-23T10:15:54.118075",
     "exception": false,
     "start_time": "2022-03-23T10:15:54.091735",
     "status": "completed"
    },
    "tags": []
   },
   "source": [
    "The above description tells us that there is a total of 1460 entries with mean SalePrice as 180921 (approx) and maximum as 755000."
   ]
  },
  {
   "cell_type": "markdown",
   "id": "f72bd41c",
   "metadata": {
    "papermill": {
     "duration": 0.028567,
     "end_time": "2022-03-23T10:15:54.173397",
     "exception": false,
     "start_time": "2022-03-23T10:15:54.144830",
     "status": "completed"
    },
    "tags": []
   },
   "source": [
    "### Correlation in Data"
   ]
  },
  {
   "cell_type": "code",
   "execution_count": 6,
   "id": "47268cd8",
   "metadata": {
    "execution": {
     "iopub.execute_input": "2022-03-23T10:15:54.239181Z",
     "iopub.status.busy": "2022-03-23T10:15:54.238339Z",
     "iopub.status.idle": "2022-03-23T10:15:54.298624Z",
     "shell.execute_reply": "2022-03-23T10:15:54.297801Z",
     "shell.execute_reply.started": "2022-03-23T10:00:32.924504Z"
    },
    "papermill": {
     "duration": 0.098568,
     "end_time": "2022-03-23T10:15:54.298798",
     "exception": false,
     "start_time": "2022-03-23T10:15:54.200230",
     "status": "completed"
    },
    "tags": []
   },
   "outputs": [
    {
     "data": {
      "text/plain": [
       "SalePrice        1.000000\n",
       "OverallQual      0.809829\n",
       "GrLivArea        0.731310\n",
       "GarageCars       0.690711\n",
       "YearBuilt        0.652682\n",
       "GarageArea       0.649379\n",
       "FullBath         0.635957\n",
       "TotalBsmtSF      0.602725\n",
       "GarageYrBlt      0.593788\n",
       "1stFlrSF         0.575408\n",
       "YearRemodAdd     0.571159\n",
       "TotRmsAbvGrd     0.532586\n",
       "Fireplaces       0.519247\n",
       "OpenPorchSF      0.477561\n",
       "LotArea          0.456461\n",
       "MasVnrArea       0.421309\n",
       "LotFrontage      0.409076\n",
       "WoodDeckSF       0.353802\n",
       "HalfBath         0.343008\n",
       "BsmtFinSF1       0.301871\n",
       "2ndFlrSF         0.293598\n",
       "BedroomAbvGr     0.234907\n",
       "BsmtFullBath     0.225125\n",
       "BsmtUnfSF        0.185197\n",
       "ScreenPorch      0.100070\n",
       "MoSold           0.069432\n",
       "3SsnPorch        0.065440\n",
       "PoolArea         0.058453\n",
       "MSSubClass       0.007192\n",
       "BsmtHalfBath    -0.012189\n",
       "Id              -0.018546\n",
       "YrSold          -0.029899\n",
       "BsmtFinSF2      -0.038806\n",
       "MiscVal         -0.062727\n",
       "LowQualFinSF    -0.067719\n",
       "OverallCond     -0.129325\n",
       "KitchenAbvGr    -0.164826\n",
       "EnclosedPorch   -0.218394\n",
       "Name: SalePrice, dtype: float64"
      ]
     },
     "execution_count": 6,
     "metadata": {},
     "output_type": "execute_result"
    }
   ],
   "source": [
    "# We will create a correlation matrix and \n",
    "# use spearman method to calulate correlation.\n",
    "corr_matrix = housing.corr(method='spearman')\n",
    "corr_matrix['SalePrice'].sort_values(ascending=False)"
   ]
  },
  {
   "cell_type": "markdown",
   "id": "60f2d9b8",
   "metadata": {
    "papermill": {
     "duration": 0.027106,
     "end_time": "2022-03-23T10:15:54.353358",
     "exception": false,
     "start_time": "2022-03-23T10:15:54.326252",
     "status": "completed"
    },
    "tags": []
   },
   "source": [
    "# Cleaning Data"
   ]
  },
  {
   "cell_type": "code",
   "execution_count": 7,
   "id": "84ec65c3",
   "metadata": {
    "execution": {
     "iopub.execute_input": "2022-03-23T10:15:54.410875Z",
     "iopub.status.busy": "2022-03-23T10:15:54.410235Z",
     "iopub.status.idle": "2022-03-23T10:15:54.435255Z",
     "shell.execute_reply": "2022-03-23T10:15:54.435874Z",
     "shell.execute_reply.started": "2022-03-23T10:00:32.994722Z"
    },
    "papermill": {
     "duration": 0.05499,
     "end_time": "2022-03-23T10:15:54.436040",
     "exception": false,
     "start_time": "2022-03-23T10:15:54.381050",
     "status": "completed"
    },
    "tags": []
   },
   "outputs": [
    {
     "data": {
      "text/html": [
       "<div>\n",
       "<style scoped>\n",
       "    .dataframe tbody tr th:only-of-type {\n",
       "        vertical-align: middle;\n",
       "    }\n",
       "\n",
       "    .dataframe tbody tr th {\n",
       "        vertical-align: top;\n",
       "    }\n",
       "\n",
       "    .dataframe thead th {\n",
       "        text-align: right;\n",
       "    }\n",
       "</style>\n",
       "<table border=\"1\" class=\"dataframe\">\n",
       "  <thead>\n",
       "    <tr style=\"text-align: right;\">\n",
       "      <th></th>\n",
       "      <th>MSZoning</th>\n",
       "      <th>Utilities</th>\n",
       "      <th>LandContour</th>\n",
       "      <th>LotConfig</th>\n",
       "      <th>Condition1</th>\n",
       "      <th>Condition2</th>\n",
       "      <th>ExterQual</th>\n",
       "      <th>ExterCond</th>\n",
       "      <th>BsmtQual</th>\n",
       "      <th>BsmtCond</th>\n",
       "      <th>HeatingQC</th>\n",
       "      <th>CentralAir</th>\n",
       "      <th>KitchenQual</th>\n",
       "      <th>FireplaceQu</th>\n",
       "      <th>GarageQual</th>\n",
       "      <th>GarageCond</th>\n",
       "      <th>Neighborhood</th>\n",
       "      <th>SalePrice</th>\n",
       "    </tr>\n",
       "  </thead>\n",
       "  <tbody>\n",
       "    <tr>\n",
       "      <th>0</th>\n",
       "      <td>RL</td>\n",
       "      <td>AllPub</td>\n",
       "      <td>Lvl</td>\n",
       "      <td>Inside</td>\n",
       "      <td>Norm</td>\n",
       "      <td>Norm</td>\n",
       "      <td>Gd</td>\n",
       "      <td>TA</td>\n",
       "      <td>Gd</td>\n",
       "      <td>TA</td>\n",
       "      <td>Ex</td>\n",
       "      <td>Y</td>\n",
       "      <td>Gd</td>\n",
       "      <td>NaN</td>\n",
       "      <td>TA</td>\n",
       "      <td>TA</td>\n",
       "      <td>CollgCr</td>\n",
       "      <td>208500</td>\n",
       "    </tr>\n",
       "    <tr>\n",
       "      <th>1</th>\n",
       "      <td>RL</td>\n",
       "      <td>AllPub</td>\n",
       "      <td>Lvl</td>\n",
       "      <td>FR2</td>\n",
       "      <td>Feedr</td>\n",
       "      <td>Norm</td>\n",
       "      <td>TA</td>\n",
       "      <td>TA</td>\n",
       "      <td>Gd</td>\n",
       "      <td>TA</td>\n",
       "      <td>Ex</td>\n",
       "      <td>Y</td>\n",
       "      <td>TA</td>\n",
       "      <td>TA</td>\n",
       "      <td>TA</td>\n",
       "      <td>TA</td>\n",
       "      <td>Veenker</td>\n",
       "      <td>181500</td>\n",
       "    </tr>\n",
       "    <tr>\n",
       "      <th>2</th>\n",
       "      <td>RL</td>\n",
       "      <td>AllPub</td>\n",
       "      <td>Lvl</td>\n",
       "      <td>Inside</td>\n",
       "      <td>Norm</td>\n",
       "      <td>Norm</td>\n",
       "      <td>Gd</td>\n",
       "      <td>TA</td>\n",
       "      <td>Gd</td>\n",
       "      <td>TA</td>\n",
       "      <td>Ex</td>\n",
       "      <td>Y</td>\n",
       "      <td>Gd</td>\n",
       "      <td>TA</td>\n",
       "      <td>TA</td>\n",
       "      <td>TA</td>\n",
       "      <td>CollgCr</td>\n",
       "      <td>223500</td>\n",
       "    </tr>\n",
       "    <tr>\n",
       "      <th>3</th>\n",
       "      <td>RL</td>\n",
       "      <td>AllPub</td>\n",
       "      <td>Lvl</td>\n",
       "      <td>Corner</td>\n",
       "      <td>Norm</td>\n",
       "      <td>Norm</td>\n",
       "      <td>TA</td>\n",
       "      <td>TA</td>\n",
       "      <td>TA</td>\n",
       "      <td>Gd</td>\n",
       "      <td>Gd</td>\n",
       "      <td>Y</td>\n",
       "      <td>Gd</td>\n",
       "      <td>Gd</td>\n",
       "      <td>TA</td>\n",
       "      <td>TA</td>\n",
       "      <td>Crawfor</td>\n",
       "      <td>140000</td>\n",
       "    </tr>\n",
       "    <tr>\n",
       "      <th>4</th>\n",
       "      <td>RL</td>\n",
       "      <td>AllPub</td>\n",
       "      <td>Lvl</td>\n",
       "      <td>FR2</td>\n",
       "      <td>Norm</td>\n",
       "      <td>Norm</td>\n",
       "      <td>Gd</td>\n",
       "      <td>TA</td>\n",
       "      <td>Gd</td>\n",
       "      <td>TA</td>\n",
       "      <td>Ex</td>\n",
       "      <td>Y</td>\n",
       "      <td>Gd</td>\n",
       "      <td>TA</td>\n",
       "      <td>TA</td>\n",
       "      <td>TA</td>\n",
       "      <td>NoRidge</td>\n",
       "      <td>250000</td>\n",
       "    </tr>\n",
       "  </tbody>\n",
       "</table>\n",
       "</div>"
      ],
      "text/plain": [
       "  MSZoning Utilities LandContour LotConfig Condition1 Condition2 ExterQual  \\\n",
       "0       RL    AllPub         Lvl    Inside       Norm       Norm        Gd   \n",
       "1       RL    AllPub         Lvl       FR2      Feedr       Norm        TA   \n",
       "2       RL    AllPub         Lvl    Inside       Norm       Norm        Gd   \n",
       "3       RL    AllPub         Lvl    Corner       Norm       Norm        TA   \n",
       "4       RL    AllPub         Lvl       FR2       Norm       Norm        Gd   \n",
       "\n",
       "  ExterCond BsmtQual BsmtCond HeatingQC CentralAir KitchenQual FireplaceQu  \\\n",
       "0        TA       Gd       TA        Ex          Y          Gd         NaN   \n",
       "1        TA       Gd       TA        Ex          Y          TA          TA   \n",
       "2        TA       Gd       TA        Ex          Y          Gd          TA   \n",
       "3        TA       TA       Gd        Gd          Y          Gd          Gd   \n",
       "4        TA       Gd       TA        Ex          Y          Gd          TA   \n",
       "\n",
       "  GarageQual GarageCond Neighborhood  SalePrice  \n",
       "0         TA         TA      CollgCr     208500  \n",
       "1         TA         TA      Veenker     181500  \n",
       "2         TA         TA      CollgCr     223500  \n",
       "3         TA         TA      Crawfor     140000  \n",
       "4         TA         TA      NoRidge     250000  "
      ]
     },
     "execution_count": 7,
     "metadata": {},
     "output_type": "execute_result"
    }
   ],
   "source": [
    "# Now we will separate text data but keep 'SalePrice' attribute for correlations\n",
    "housing_text_price = housing[['MSZoning', 'Utilities', 'LandContour',\n",
    "                       'LotConfig', 'Condition1', 'Condition2', 'ExterQual',\n",
    "                       'ExterCond', 'BsmtQual', 'BsmtCond', 'HeatingQC', \n",
    "                       'CentralAir', 'KitchenQual', 'FireplaceQu', 'GarageQual',\n",
    "                       'GarageCond', 'Neighborhood', 'SalePrice']]\n",
    "housing_text_price_test = housing_test[['MSZoning', 'Utilities', 'LandContour',\n",
    "                       'LotConfig', 'Condition1', 'Condition2', 'ExterQual',\n",
    "                       'ExterCond', 'BsmtQual', 'BsmtCond', 'HeatingQC', \n",
    "                       'CentralAir', 'KitchenQual', 'FireplaceQu', 'GarageQual',\n",
    "                       'GarageCond', 'Neighborhood']]\n",
    "\n",
    "housing_text_price.head()"
   ]
  },
  {
   "cell_type": "code",
   "execution_count": 8,
   "id": "238ddcc0",
   "metadata": {
    "execution": {
     "iopub.execute_input": "2022-03-23T10:15:54.500671Z",
     "iopub.status.busy": "2022-03-23T10:15:54.500020Z",
     "iopub.status.idle": "2022-03-23T10:15:54.512351Z",
     "shell.execute_reply": "2022-03-23T10:15:54.512874Z",
     "shell.execute_reply.started": "2022-03-23T10:00:33.027705Z"
    },
    "papermill": {
     "duration": 0.049205,
     "end_time": "2022-03-23T10:15:54.513039",
     "exception": false,
     "start_time": "2022-03-23T10:15:54.463834",
     "status": "completed"
    },
    "tags": []
   },
   "outputs": [
    {
     "data": {
      "text/plain": [
       "SimpleImputer(strategy='median')"
      ]
     },
     "execution_count": 8,
     "metadata": {},
     "output_type": "execute_result"
    }
   ],
   "source": [
    "# Solution for Missing Values\n",
    "imputer = SimpleImputer(strategy=\"median\")\n",
    "# Median can be calculated for numeric values so we will drop non-numeric values\n",
    "housing_num = housing[['OverallQual', 'GrLivArea', 'GarageCars', 'GarageArea', \n",
    "               'TotalBsmtSF', '1stFlrSF', 'FullBath', 'YearBuilt', 'TotRmsAbvGrd',\n",
    "               'Fireplaces', 'LotFrontage', 'LotArea', 'MasVnrArea', 'GarageYrBlt']]\n",
    "imputer.fit(housing_num)\n",
    "\n",
    "housing_num_test = housing_test[['OverallQual', 'GrLivArea', 'GarageCars', 'GarageArea', \n",
    "               'TotalBsmtSF', '1stFlrSF', 'FullBath', 'YearBuilt', 'TotRmsAbvGrd',\n",
    "               'Fireplaces', 'LotFrontage', 'LotArea', 'MasVnrArea', 'GarageYrBlt']]\n",
    "imputer.fit(housing_num_test)"
   ]
  },
  {
   "cell_type": "code",
   "execution_count": 9,
   "id": "df02c3e8",
   "metadata": {
    "execution": {
     "iopub.execute_input": "2022-03-23T10:15:54.572268Z",
     "iopub.status.busy": "2022-03-23T10:15:54.571598Z",
     "iopub.status.idle": "2022-03-23T10:15:54.579238Z",
     "shell.execute_reply": "2022-03-23T10:15:54.579846Z",
     "shell.execute_reply.started": "2022-03-23T10:00:33.059887Z"
    },
    "papermill": {
     "duration": 0.038919,
     "end_time": "2022-03-23T10:15:54.580010",
     "exception": false,
     "start_time": "2022-03-23T10:15:54.541091",
     "status": "completed"
    },
    "tags": []
   },
   "outputs": [],
   "source": [
    "# Use the trained Imputer to transform (replace missing values)\n",
    "# in our existing numeric data \n",
    "X = imputer.transform(housing_num)\n",
    "Y = imputer.transform(housing_num_test)"
   ]
  },
  {
   "cell_type": "code",
   "execution_count": 10,
   "id": "00536899",
   "metadata": {
    "execution": {
     "iopub.execute_input": "2022-03-23T10:15:54.639227Z",
     "iopub.status.busy": "2022-03-23T10:15:54.638606Z",
     "iopub.status.idle": "2022-03-23T10:15:54.643259Z",
     "shell.execute_reply": "2022-03-23T10:15:54.643735Z",
     "shell.execute_reply.started": "2022-03-23T10:14:36.403930Z"
    },
    "papermill": {
     "duration": 0.035754,
     "end_time": "2022-03-23T10:15:54.643913",
     "exception": false,
     "start_time": "2022-03-23T10:15:54.608159",
     "status": "completed"
    },
    "tags": []
   },
   "outputs": [],
   "source": [
    "# The results of imputer were NumPy arrays\n",
    "# Therefore we convert them back to pandas DataFrame\n",
    "housing_tr = pd.DataFrame(X, columns=housing_num.columns, \n",
    "                         index=housing_num.index)\n",
    "\n",
    "housing_tr_test = pd.DataFrame(Y, columns=housing_num_test.columns, \n",
    "                         index=housing_num_test.index)"
   ]
  },
  {
   "cell_type": "markdown",
   "id": "c14fd0e0",
   "metadata": {
    "papermill": {
     "duration": 0.027673,
     "end_time": "2022-03-23T10:15:54.699610",
     "exception": false,
     "start_time": "2022-03-23T10:15:54.671937",
     "status": "completed"
    },
    "tags": []
   },
   "source": [
    "### Handling Text and Categorical Data"
   ]
  },
  {
   "cell_type": "code",
   "execution_count": 11,
   "id": "51906e58",
   "metadata": {
    "execution": {
     "iopub.execute_input": "2022-03-23T10:15:54.758687Z",
     "iopub.status.busy": "2022-03-23T10:15:54.758068Z",
     "iopub.status.idle": "2022-03-23T10:15:54.772252Z",
     "shell.execute_reply": "2022-03-23T10:15:54.772788Z",
     "shell.execute_reply.started": "2022-03-23T10:14:48.163563Z"
    },
    "papermill": {
     "duration": 0.045345,
     "end_time": "2022-03-23T10:15:54.772950",
     "exception": false,
     "start_time": "2022-03-23T10:15:54.727605",
     "status": "completed"
    },
    "tags": []
   },
   "outputs": [
    {
     "data": {
      "text/plain": [
       "MSZoning          0\n",
       "Utilities         0\n",
       "LandContour       0\n",
       "LotConfig         0\n",
       "Condition1        0\n",
       "Condition2        0\n",
       "ExterQual         0\n",
       "ExterCond         0\n",
       "BsmtQual         37\n",
       "BsmtCond         37\n",
       "HeatingQC         0\n",
       "CentralAir        0\n",
       "KitchenQual       0\n",
       "FireplaceQu     690\n",
       "GarageQual       81\n",
       "GarageCond       81\n",
       "Neighborhood      0\n",
       "dtype: int64"
      ]
     },
     "execution_count": 11,
     "metadata": {},
     "output_type": "execute_result"
    }
   ],
   "source": [
    "# To find features with missing values\n",
    "housing_text = housing[['MSZoning', 'Utilities', 'LandContour',\n",
    "                       'LotConfig', 'Condition1', 'Condition2', 'ExterQual',\n",
    "                       'ExterCond', 'BsmtQual', 'BsmtCond', 'HeatingQC', \n",
    "                       'CentralAir', 'KitchenQual', 'FireplaceQu', 'GarageQual',\n",
    "                       'GarageCond', 'Neighborhood']]\n",
    "\n",
    "housing_text_test = housing_test[['MSZoning', 'Utilities', 'LandContour',\n",
    "                       'LotConfig', 'Condition1', 'Condition2', 'ExterQual',\n",
    "                       'ExterCond', 'BsmtQual', 'BsmtCond', 'HeatingQC', \n",
    "                       'CentralAir', 'KitchenQual', 'FireplaceQu', 'GarageQual',\n",
    "                       'GarageCond', 'Neighborhood']]\n",
    "\n",
    "housing_text.isna().sum()"
   ]
  },
  {
   "cell_type": "markdown",
   "id": "638c090b",
   "metadata": {
    "papermill": {
     "duration": 0.028011,
     "end_time": "2022-03-23T10:15:54.829331",
     "exception": false,
     "start_time": "2022-03-23T10:15:54.801320",
     "status": "completed"
    },
    "tags": []
   },
   "source": [
    "We will replace these missing values because they are larger in number and dropping them won't be a good idea."
   ]
  },
  {
   "cell_type": "code",
   "execution_count": 12,
   "id": "4635d54d",
   "metadata": {
    "execution": {
     "iopub.execute_input": "2022-03-23T10:15:54.889963Z",
     "iopub.status.busy": "2022-03-23T10:15:54.889218Z",
     "iopub.status.idle": "2022-03-23T10:15:55.326849Z",
     "shell.execute_reply": "2022-03-23T10:15:55.326297Z",
     "shell.execute_reply.started": "2022-03-23T10:14:48.236206Z"
    },
    "papermill": {
     "duration": 0.468833,
     "end_time": "2022-03-23T10:15:55.326984",
     "exception": false,
     "start_time": "2022-03-23T10:15:54.858151",
     "status": "completed"
    },
    "tags": []
   },
   "outputs": [
    {
     "data": {
      "image/png": "[encoded data removed]",
      "text/plain": [
       "<Figure size 432x324 with 1 Axes>"
      ]
     },
     "metadata": {
      "needs_background": "light"
     },
     "output_type": "display_data"
    }
   ],
   "source": [
    "def spearman(frame, features):\n",
    "    \"\"\"\n",
    "    A function to plot a graph with given feature's \n",
    "    correlation with the attribute 'SalePrice'.\n",
    "    \"\"\"\n",
    "    spr = pd.DataFrame()\n",
    "    spr['feature'] = features\n",
    "    spr['spearman'] = [frame[f].corr(frame['SalePrice'], 'spearman') for f in features]\n",
    "    spr = spr.sort_values('spearman')\n",
    "    plt.figure(figsize=(6, 0.25*len(features)))\n",
    "    sns.barplot(data=spr, y='feature', x='spearman', orient='h')\n",
    "\n",
    "spearman(housing_text_price, housing_text_price.columns)"
   ]
  },
  {
   "cell_type": "code",
   "execution_count": 13,
   "id": "b364e7d9",
   "metadata": {
    "execution": {
     "iopub.execute_input": "2022-03-23T10:15:55.396163Z",
     "iopub.status.busy": "2022-03-23T10:15:55.395448Z",
     "iopub.status.idle": "2022-03-23T10:15:55.408336Z",
     "shell.execute_reply": "2022-03-23T10:15:55.408848Z",
     "shell.execute_reply.started": "2022-03-23T10:14:48.647348Z"
    },
    "papermill": {
     "duration": 0.052432,
     "end_time": "2022-03-23T10:15:55.409014",
     "exception": false,
     "start_time": "2022-03-23T10:15:55.356582",
     "status": "completed"
    },
    "tags": []
   },
   "outputs": [
    {
     "name": "stderr",
     "output_type": "stream",
     "text": [
      "/opt/conda/lib/python3.7/site-packages/pandas/core/frame.py:5182: SettingWithCopyWarning: \n",
      "A value is trying to be set on a copy of a slice from a DataFrame\n",
      "\n",
      "See the caveats in the documentation: https://pandas.pydata.org/pandas-docs/stable/user_guide/indexing.html#returning-a-view-versus-a-copy\n",
      "  downcast=downcast,\n"
     ]
    }
   ],
   "source": [
    "# Clearly from the visuals above we will use features of our interest (closely related with SalePrice)\n",
    "housing_text = housing[['Condition1', 'Condition2','ExterCond', \n",
    "                        'BsmtCond', 'CentralAir', 'GarageQual', \n",
    "                        'GarageCond', 'Neighborhood']]\n",
    "housing_text.fillna('Unavailable', inplace=True)\n",
    "\n",
    "housing_text_test = housing_test[['Condition1', 'Condition2','ExterCond', \n",
    "                        'BsmtCond', 'CentralAir', 'GarageQual', \n",
    "                        'GarageCond', 'Neighborhood']]\n",
    "housing_text_test.fillna('Unavailable', inplace=True)"
   ]
  },
  {
   "cell_type": "code",
   "execution_count": 14,
   "id": "8d85c22f",
   "metadata": {
    "execution": {
     "iopub.execute_input": "2022-03-23T10:15:55.472299Z",
     "iopub.status.busy": "2022-03-23T10:15:55.471619Z",
     "iopub.status.idle": "2022-03-23T10:15:55.491913Z",
     "shell.execute_reply": "2022-03-23T10:15:55.492419Z",
     "shell.execute_reply.started": "2022-03-23T10:14:48.663902Z"
    },
    "papermill": {
     "duration": 0.05347,
     "end_time": "2022-03-23T10:15:55.492604",
     "exception": false,
     "start_time": "2022-03-23T10:15:55.439134",
     "status": "completed"
    },
    "tags": []
   },
   "outputs": [],
   "source": [
    "# Use Ordinal Encoder for categorical and text attributes\n",
    "ordinal_encoder = OrdinalEncoder()\n",
    "housing_text_enc = ordinal_encoder.fit_transform(housing_text)\n",
    "housing_text = pd.DataFrame(housing_text_enc,\n",
    "                            columns=['Condition1', 'Condition2','ExterCond', \n",
    "                                    'BsmtCond', 'CentralAir', 'GarageQual', \n",
    "                                    'GarageCond', 'Neighborhood'])\n",
    "\n",
    "ordinal_encoder_test = OrdinalEncoder()\n",
    "housing_text_enc_test = ordinal_encoder.fit_transform(housing_text_test)\n",
    "housing_text_test = pd.DataFrame(housing_text_enc_test,\n",
    "                            columns=['Condition1', 'Condition2','ExterCond', \n",
    "                                    'BsmtCond', 'CentralAir', 'GarageQual', \n",
    "                                    'GarageCond', 'Neighborhood'])"
   ]
  },
  {
   "cell_type": "code",
   "execution_count": 15,
   "id": "9cd2910a",
   "metadata": {
    "execution": {
     "iopub.execute_input": "2022-03-23T10:15:55.557427Z",
     "iopub.status.busy": "2022-03-23T10:15:55.556386Z",
     "iopub.status.idle": "2022-03-23T10:15:55.592084Z",
     "shell.execute_reply": "2022-03-23T10:15:55.592687Z",
     "shell.execute_reply.started": "2022-03-23T10:14:48.701779Z"
    },
    "papermill": {
     "duration": 0.069858,
     "end_time": "2022-03-23T10:15:55.592881",
     "exception": false,
     "start_time": "2022-03-23T10:15:55.523023",
     "status": "completed"
    },
    "tags": []
   },
   "outputs": [
    {
     "data": {
      "text/html": [
       "<div>\n",
       "<style scoped>\n",
       "    .dataframe tbody tr th:only-of-type {\n",
       "        vertical-align: middle;\n",
       "    }\n",
       "\n",
       "    .dataframe tbody tr th {\n",
       "        vertical-align: top;\n",
       "    }\n",
       "\n",
       "    .dataframe thead th {\n",
       "        text-align: right;\n",
       "    }\n",
       "</style>\n",
       "<table border=\"1\" class=\"dataframe\">\n",
       "  <thead>\n",
       "    <tr style=\"text-align: right;\">\n",
       "      <th></th>\n",
       "      <th>OverallQual</th>\n",
       "      <th>GrLivArea</th>\n",
       "      <th>GarageCars</th>\n",
       "      <th>GarageArea</th>\n",
       "      <th>TotalBsmtSF</th>\n",
       "      <th>1stFlrSF</th>\n",
       "      <th>FullBath</th>\n",
       "      <th>YearBuilt</th>\n",
       "      <th>TotRmsAbvGrd</th>\n",
       "      <th>Fireplaces</th>\n",
       "      <th>...</th>\n",
       "      <th>GarageYrBlt</th>\n",
       "      <th>Condition1</th>\n",
       "      <th>Condition2</th>\n",
       "      <th>ExterCond</th>\n",
       "      <th>BsmtCond</th>\n",
       "      <th>CentralAir</th>\n",
       "      <th>GarageQual</th>\n",
       "      <th>GarageCond</th>\n",
       "      <th>Neighborhood</th>\n",
       "      <th>Id</th>\n",
       "    </tr>\n",
       "  </thead>\n",
       "  <tbody>\n",
       "    <tr>\n",
       "      <th>0</th>\n",
       "      <td>5.0</td>\n",
       "      <td>896.0</td>\n",
       "      <td>1.0</td>\n",
       "      <td>730.0</td>\n",
       "      <td>882.0</td>\n",
       "      <td>896.0</td>\n",
       "      <td>1.0</td>\n",
       "      <td>1961.0</td>\n",
       "      <td>5.0</td>\n",
       "      <td>0.0</td>\n",
       "      <td>...</td>\n",
       "      <td>1961.0</td>\n",
       "      <td>1.0</td>\n",
       "      <td>2.0</td>\n",
       "      <td>4.0</td>\n",
       "      <td>3.0</td>\n",
       "      <td>1.0</td>\n",
       "      <td>3.0</td>\n",
       "      <td>4.0</td>\n",
       "      <td>12.0</td>\n",
       "      <td>1461</td>\n",
       "    </tr>\n",
       "    <tr>\n",
       "      <th>1</th>\n",
       "      <td>6.0</td>\n",
       "      <td>1329.0</td>\n",
       "      <td>1.0</td>\n",
       "      <td>312.0</td>\n",
       "      <td>1329.0</td>\n",
       "      <td>1329.0</td>\n",
       "      <td>1.0</td>\n",
       "      <td>1958.0</td>\n",
       "      <td>6.0</td>\n",
       "      <td>0.0</td>\n",
       "      <td>...</td>\n",
       "      <td>1958.0</td>\n",
       "      <td>2.0</td>\n",
       "      <td>2.0</td>\n",
       "      <td>4.0</td>\n",
       "      <td>3.0</td>\n",
       "      <td>1.0</td>\n",
       "      <td>3.0</td>\n",
       "      <td>4.0</td>\n",
       "      <td>12.0</td>\n",
       "      <td>1462</td>\n",
       "    </tr>\n",
       "    <tr>\n",
       "      <th>2</th>\n",
       "      <td>5.0</td>\n",
       "      <td>1629.0</td>\n",
       "      <td>2.0</td>\n",
       "      <td>482.0</td>\n",
       "      <td>928.0</td>\n",
       "      <td>928.0</td>\n",
       "      <td>2.0</td>\n",
       "      <td>1997.0</td>\n",
       "      <td>6.0</td>\n",
       "      <td>1.0</td>\n",
       "      <td>...</td>\n",
       "      <td>1997.0</td>\n",
       "      <td>2.0</td>\n",
       "      <td>2.0</td>\n",
       "      <td>4.0</td>\n",
       "      <td>3.0</td>\n",
       "      <td>1.0</td>\n",
       "      <td>3.0</td>\n",
       "      <td>4.0</td>\n",
       "      <td>8.0</td>\n",
       "      <td>1463</td>\n",
       "    </tr>\n",
       "    <tr>\n",
       "      <th>3</th>\n",
       "      <td>6.0</td>\n",
       "      <td>1604.0</td>\n",
       "      <td>2.0</td>\n",
       "      <td>470.0</td>\n",
       "      <td>926.0</td>\n",
       "      <td>926.0</td>\n",
       "      <td>2.0</td>\n",
       "      <td>1998.0</td>\n",
       "      <td>7.0</td>\n",
       "      <td>1.0</td>\n",
       "      <td>...</td>\n",
       "      <td>1998.0</td>\n",
       "      <td>2.0</td>\n",
       "      <td>2.0</td>\n",
       "      <td>4.0</td>\n",
       "      <td>3.0</td>\n",
       "      <td>1.0</td>\n",
       "      <td>3.0</td>\n",
       "      <td>4.0</td>\n",
       "      <td>8.0</td>\n",
       "      <td>1464</td>\n",
       "    </tr>\n",
       "    <tr>\n",
       "      <th>4</th>\n",
       "      <td>8.0</td>\n",
       "      <td>1280.0</td>\n",
       "      <td>2.0</td>\n",
       "      <td>506.0</td>\n",
       "      <td>1280.0</td>\n",
       "      <td>1280.0</td>\n",
       "      <td>2.0</td>\n",
       "      <td>1992.0</td>\n",
       "      <td>5.0</td>\n",
       "      <td>0.0</td>\n",
       "      <td>...</td>\n",
       "      <td>1992.0</td>\n",
       "      <td>2.0</td>\n",
       "      <td>2.0</td>\n",
       "      <td>4.0</td>\n",
       "      <td>3.0</td>\n",
       "      <td>1.0</td>\n",
       "      <td>3.0</td>\n",
       "      <td>4.0</td>\n",
       "      <td>22.0</td>\n",
       "      <td>1465</td>\n",
       "    </tr>\n",
       "  </tbody>\n",
       "</table>\n",
       "<p>5 rows × 23 columns</p>\n",
       "</div>"
      ],
      "text/plain": [
       "   OverallQual  GrLivArea  GarageCars  GarageArea  TotalBsmtSF  1stFlrSF  \\\n",
       "0          5.0      896.0         1.0       730.0        882.0     896.0   \n",
       "1          6.0     1329.0         1.0       312.0       1329.0    1329.0   \n",
       "2          5.0     1629.0         2.0       482.0        928.0     928.0   \n",
       "3          6.0     1604.0         2.0       470.0        926.0     926.0   \n",
       "4          8.0     1280.0         2.0       506.0       1280.0    1280.0   \n",
       "\n",
       "   FullBath  YearBuilt  TotRmsAbvGrd  Fireplaces  ...  GarageYrBlt  \\\n",
       "0       1.0     1961.0           5.0         0.0  ...       1961.0   \n",
       "1       1.0     1958.0           6.0         0.0  ...       1958.0   \n",
       "2       2.0     1997.0           6.0         1.0  ...       1997.0   \n",
       "3       2.0     1998.0           7.0         1.0  ...       1998.0   \n",
       "4       2.0     1992.0           5.0         0.0  ...       1992.0   \n",
       "\n",
       "   Condition1  Condition2  ExterCond  BsmtCond  CentralAir  GarageQual  \\\n",
       "0         1.0         2.0        4.0       3.0         1.0         3.0   \n",
       "1         2.0         2.0        4.0       3.0         1.0         3.0   \n",
       "2         2.0         2.0        4.0       3.0         1.0         3.0   \n",
       "3         2.0         2.0        4.0       3.0         1.0         3.0   \n",
       "4         2.0         2.0        4.0       3.0         1.0         3.0   \n",
       "\n",
       "   GarageCond  Neighborhood    Id  \n",
       "0         4.0          12.0  1461  \n",
       "1         4.0          12.0  1462  \n",
       "2         4.0           8.0  1463  \n",
       "3         4.0           8.0  1464  \n",
       "4         4.0          22.0  1465  \n",
       "\n",
       "[5 rows x 23 columns]"
      ]
     },
     "execution_count": 15,
     "metadata": {},
     "output_type": "execute_result"
    }
   ],
   "source": [
    "# Combine both numerical and categorical data as 'housing_prep'\n",
    "dataframes = [housing_tr, housing_text, housing[\"Id\"]]\n",
    "housing_prep = pd.concat(dataframes, axis=1)\n",
    "\n",
    "\n",
    "dataframes1 = [housing_tr_test, housing_text_test, housing_test[\"Id\"]]\n",
    "housing_prep_test = pd.concat(dataframes1, axis=1)\n",
    "\n",
    "housing_prep_test.head()"
   ]
  },
  {
   "cell_type": "markdown",
   "id": "5c8b59bf",
   "metadata": {
    "papermill": {
     "duration": 0.030644,
     "end_time": "2022-03-23T10:15:55.654142",
     "exception": false,
     "start_time": "2022-03-23T10:15:55.623498",
     "status": "completed"
    },
    "tags": []
   },
   "source": [
    "# Select and Train Model"
   ]
  },
  {
   "cell_type": "code",
   "execution_count": 16,
   "id": "5363454d",
   "metadata": {
    "execution": {
     "iopub.execute_input": "2022-03-23T10:15:55.724145Z",
     "iopub.status.busy": "2022-03-23T10:15:55.723105Z",
     "iopub.status.idle": "2022-03-23T10:15:56.808676Z",
     "shell.execute_reply": "2022-03-23T10:15:56.808128Z",
     "shell.execute_reply.started": "2022-03-23T10:14:48.751367Z"
    },
    "papermill": {
     "duration": 1.123894,
     "end_time": "2022-03-23T10:15:56.808837",
     "exception": false,
     "start_time": "2022-03-23T10:15:55.684943",
     "status": "completed"
    },
    "tags": []
   },
   "outputs": [
    {
     "data": {
      "text/plain": [
       "RandomForestRegressor()"
      ]
     },
     "execution_count": 16,
     "metadata": {},
     "output_type": "execute_result"
    }
   ],
   "source": [
    "# Create a housing label i.e. SalePrice\n",
    "housing_label = housing[\"SalePrice\"].copy()\n",
    "\n",
    "# We will use RandomForestRegressor to train our model\n",
    "forest_reg = RandomForestRegressor()\n",
    "forest_reg.fit(housing_prep, housing_label)"
   ]
  },
  {
   "cell_type": "code",
   "execution_count": 17,
   "id": "98f58863",
   "metadata": {
    "execution": {
     "iopub.execute_input": "2022-03-23T10:15:56.885492Z",
     "iopub.status.busy": "2022-03-23T10:15:56.884541Z",
     "iopub.status.idle": "2022-03-23T10:15:56.889095Z",
     "shell.execute_reply": "2022-03-23T10:15:56.889624Z",
     "shell.execute_reply.started": "2022-03-23T10:14:49.903053Z"
    },
    "papermill": {
     "duration": 0.044332,
     "end_time": "2022-03-23T10:15:56.889799",
     "exception": false,
     "start_time": "2022-03-23T10:15:56.845467",
     "status": "completed"
    },
    "tags": []
   },
   "outputs": [],
   "source": [
    "def display_scores(scores):\n",
    "  \"\"\"Shows values of Cross-Validation score.\"\"\"\n",
    "  print(\"Scores:\", scores)\n",
    "  print(\"Mean:\", scores.mean())\n",
    "  print(\"Standard deviation:\", scores.std())"
   ]
  },
  {
   "cell_type": "code",
   "execution_count": 18,
   "id": "3f4820d1",
   "metadata": {
    "execution": {
     "iopub.execute_input": "2022-03-23T10:15:56.958181Z",
     "iopub.status.busy": "2022-03-23T10:15:56.954237Z",
     "iopub.status.idle": "2022-03-23T10:16:06.912329Z",
     "shell.execute_reply": "2022-03-23T10:16:06.911755Z",
     "shell.execute_reply.started": "2022-03-23T10:14:49.910649Z"
    },
    "papermill": {
     "duration": 9.991327,
     "end_time": "2022-03-23T10:16:06.912481",
     "exception": false,
     "start_time": "2022-03-23T10:15:56.921154",
     "status": "completed"
    },
    "tags": []
   },
   "outputs": [
    {
     "name": "stdout",
     "output_type": "stream",
     "text": [
      "Scores: [29500.02297609 28038.45298207 23217.74020024 43129.02901322\n",
      " 37075.94666754 23820.74357051 25511.81757233 25612.33896773\n",
      " 39244.49001459 29176.78655136]\n",
      "Mean: 30432.736851567937\n",
      "Standard deviation: 6590.7612673789745\n"
     ]
    }
   ],
   "source": [
    "# Check our model score using cross-validation\n",
    "forest_score = cross_val_score(forest_reg, housing_prep, housing_label,\n",
    "                              scoring=\"neg_mean_squared_error\", cv=10)\n",
    "forest_rmse_scores = np.sqrt(-forest_score)\n",
    "display_scores(forest_rmse_scores)"
   ]
  },
  {
   "cell_type": "code",
   "execution_count": 19,
   "id": "50e8fda0",
   "metadata": {
    "execution": {
     "iopub.execute_input": "2022-03-23T10:16:06.982611Z",
     "iopub.status.busy": "2022-03-23T10:16:06.979065Z",
     "iopub.status.idle": "2022-03-23T10:16:07.032272Z",
     "shell.execute_reply": "2022-03-23T10:16:07.032810Z",
     "shell.execute_reply.started": "2022-03-23T10:15:21.906505Z"
    },
    "papermill": {
     "duration": 0.088671,
     "end_time": "2022-03-23T10:16:07.032984",
     "exception": false,
     "start_time": "2022-03-23T10:16:06.944313",
     "status": "completed"
    },
    "tags": []
   },
   "outputs": [
    {
     "name": "stdout",
     "output_type": "stream",
     "text": [
      "Submitted successfully!\n"
     ]
    }
   ],
   "source": [
    "housing_prep_test1 = housing_prep_test.copy()\n",
    "housing_prep_test1.dropna(inplace=True)\n",
    "# Make predictions on test set\n",
    "predictions = forest_reg.predict(housing_prep_test1)\n",
    "\n",
    "# Conert our predictions to a DataFrame\n",
    "output = pd.DataFrame({'Id': housing_prep_test1.Id, 'SalePrice': predictions})\n",
    "# Convert our DataFrame to a CSV file\n",
    "output.to_csv('submission.csv', index=False)\n",
    "print(\"Submitted successfully!\")"
   ]
  }
 ],
 "metadata": {
  "kernelspec": {
   "display_name": "Python 3",
   "language": "python",
   "name": "python3"
  },
  "language_info": {
   "codemirror_mode": {
    "name": "ipython",
    "version": 3
   },
   "file_extension": ".py",
   "mimetype": "text/x-python",
   "name": "python",
   "nbconvert_exporter": "python",
   "pygments_lexer": "ipython3",
   "version": "3.7.12"
  },
  "papermill": {
   "default_parameters": {},
   "duration": 25.444852,
   "end_time": "2022-03-23T10:16:07.776032",
   "environment_variables": {},
   "exception": null,
   "input_path": "__notebook__.ipynb",
   "output_path": "__notebook__.ipynb",
   "parameters": {},
   "start_time": "2022-03-23T10:15:42.331180",
   "version": "2.3.3"
  }
 },
 "nbformat": 4,
 "nbformat_minor": 5
}
